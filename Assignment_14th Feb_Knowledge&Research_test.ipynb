{
 "cells": [
  {
   "cell_type": "code",
   "execution_count": 1,
   "id": "2460b760",
   "metadata": {},
   "outputs": [],
   "source": [
    "# # Knowlege Test\n",
    "\n",
    "# Q1. Write a function to print the fibonaaci series\n",
    "# Q2. What are Armstrong numbers? Write a function if a number is Armstrong number of not\n",
    "# Q3. Difference between list and tuple support your answer with coding example\n",
    "# Q4. What is python doc String\n",
    "\n",
    "# # Research Test\n",
    "\n",
    "# Q1. what is PEP 8\n",
    "# Q2. difference between range and xrange\n",
    "# Q3. What are global and local varibales support your answer with coding\n",
    "# Q4. Difference between python 2 and python 3\n",
    "# Q5. What are mirrored palindrome? Write a program to check if a string is mirrored palindrome or not?\n",
    "\n",
    "# Note : All the Answer should be written in Jupyter notebook and once completed you have to upload the notebook on github\n",
    "\n",
    "# Once completed and uploaded succesfully on github please share the link on the learnbay app group\n",
    "\n",
    "# Deadline\n",
    "\n",
    "# Both knowlege test and Research test before 12am (15-feb-2022)"
   ]
  },
  {
   "cell_type": "markdown",
   "id": "00cd1b72",
   "metadata": {},
   "source": [
    "# Knowlegde Test"
   ]
  },
  {
   "cell_type": "code",
   "execution_count": 55,
   "id": "2e895db0",
   "metadata": {},
   "outputs": [
    {
     "name": "stdout",
     "output_type": "stream",
     "text": [
      "0\n",
      "1\n",
      "1\n",
      "2\n",
      "3\n",
      "5\n",
      "8\n",
      "13\n",
      "21\n",
      "34\n"
     ]
    }
   ],
   "source": [
    "# Q1. Write a function to print the fibonaaci series\n",
    "\n",
    "def f1(a,b):\n",
    "    for i in range(10):\n",
    "        print(a)\n",
    "        a,b=b,b+a \n",
    "        \n",
    "f1(0,1)\n",
    "\n"
   ]
  },
  {
   "cell_type": "code",
   "execution_count": 75,
   "id": "b3bb741d",
   "metadata": {},
   "outputs": [
    {
     "data": {
      "text/plain": [
       "1634"
      ]
     },
     "execution_count": 75,
     "metadata": {},
     "output_type": "execute_result"
    }
   ],
   "source": [
    "# Q2. What are Armstrong numbers? Write a function if a number is Armstrong number of not\n",
    "\n",
    "def f1(num):\n",
    "    m=0\n",
    "    n=len(str(num))\n",
    "    for i in str(num):\n",
    "        m = m+(int(i)**n)\n",
    "    return m\n",
    "    \n",
    "f1(1634)      "
   ]
  },
  {
   "cell_type": "code",
   "execution_count": 124,
   "id": "abe1c02b",
   "metadata": {},
   "outputs": [
    {
     "name": "stdout",
     "output_type": "stream",
     "text": [
      "[3, 4, 5]\n",
      "False\n",
      "[23, 35, 56, 1, 2, 3, 4, 5, 4, 32, 2, 1]\n",
      "[1, 2, 3, 4, 5, 4, 32, 2, 1] [23, 35, 56, 23, 35, 56]\n",
      "[1, 2, 3, 4, 5, 4, 32, 2, 1, 10]\n",
      "[23, 35, 56, 1, 2, 3, 4, 5, 4, 32, 2, 1, 10]\n",
      "2\n",
      "[1, 2, 3, 4, 5, 4, 32, 2, 1, 10, 100]\n",
      "index value of \"5\" is: 4\n",
      "3\n",
      "2\n",
      "(1, 2, 3, 4, 5, 3, 1) <class 'tuple'>\n"
     ]
    }
   ],
   "source": [
    "#  Q3. Difference between list and tuple support your answer with coding example\n",
    "\n",
    "# # list inputs are taken as list only when in square brackets[] or else, it is considered as tuple.\n",
    "# x = 1,2,3,4,5,4,32,2,1\n",
    "# y = [1,2,3,4,5,4,32,2,1]\n",
    "# print(x,type(x))\n",
    "# print(y,type(y))\n",
    "# print()\n",
    "\n",
    "# # list and tuple can have duplicate values.\n",
    "# l=[1,2,3,4,5,4,32,2,1]\n",
    "# m =(1,2,3,4,5,4,32,2,10)\n",
    "# print(l,type(l))\n",
    "# print(m,type(m))\n",
    "# print()\n",
    "\n",
    "# # list is muttable. \n",
    "# In list-indexing,slicing,concatination,repeation can be done. \n",
    "# list can have duplicate values.\n",
    "l=[1,2,3,4,5,4,32,2,1]\n",
    "print(l[2:5])\n",
    "p=[23,35,56]\n",
    "print(l[0]== 25)\n",
    "print(p+l)\n",
    "print(l, p*2 )\n",
    "l.append(10)\n",
    "print(l)\n",
    "p.extend(l)\n",
    "print(p)\n",
    "print(p.count(4))\n",
    "# print(p)\n",
    "l.insert(l[-1],100)\n",
    "print(l)\n",
    "\n",
    "\n",
    "print(f'index value of \"5\" is:' ,l[5])\n",
    "\n",
    "# tuple is immutable. you can use \"count\"and \"index\" function alone.\n",
    "# tuple can have duplicate values.\n",
    "tpl=( 1,2,3,4,5,3,1)\n",
    "print(tpl.index(4))\n",
    "print(tpl.count(3))\n",
    "print(tpl,type(tpl))\n",
    "\n",
    "\n"
   ]
  },
  {
   "cell_type": "code",
   "execution_count": 126,
   "id": "72c7de17",
   "metadata": {},
   "outputs": [
    {
     "name": "stdout",
     "output_type": "stream",
     "text": [
      "This module provides access to the mathematical functions\n",
      "defined by the C standard.\n",
      "Return the square root of x.\n"
     ]
    }
   ],
   "source": [
    "# Q4. What is python doc String?\n",
    "\n",
    "# Doc strings are multiline comments inside functions,methods modules and classes\n",
    "\n",
    "# python consider it as commments when the 'doc string' is outside function.\n",
    "# It should be inside '''sample1''', \"\"\"sample2\"\"\",'''sample3'''---> doc string when inside the function.\n",
    "\n",
    "\n",
    "'''This function adds and returns sum'''\n",
    "def func_name(a,b):\n",
    "    c=a+b\n",
    "    return c   \n",
    "print(func_name(5,10))\n",
    "print(func_name.__doc__)\n",
    "def func_name(a,b):\n",
    "        '''This function adds and returns sum'''\n",
    "        c=a+b\n",
    "        return c   \n",
    "print(func_name(5,10))\n",
    "print(func_name.__doc__) \n",
    "\n",
    "# To doc string can be used in module.\n",
    "import math\n",
    "print(math.__doc__)\n",
    "print(math.sqrt.__doc__)\n",
    "\n",
    "\n",
    "# doc string is created at the first line inside functions, otherwise it doesn't consider it as doc string."
   ]
  },
  {
   "cell_type": "markdown",
   "id": "61dd72d7",
   "metadata": {},
   "source": [
    "# Research Test\n"
   ]
  },
  {
   "cell_type": "code",
   "execution_count": null,
   "id": "05fb6328",
   "metadata": {},
   "outputs": [],
   "source": [
    "# Q1. what is PEP 8\n",
    "\n",
    "# PEP   --> Python Enhancement Proposals\n",
    "# PEP 8 -->Title----> Style Guide for Python code.\n",
    "# Author-->\n",
    "# \"\"\"Guido van Rossum <guido at python.org>, \n",
    "# Barry Warsaw <barry at python.org>,\n",
    "# Nick Coghlan <ncoghlan at gmail.com>\"\"\"\n",
    "# created on 5 july 2001\n"
   ]
  },
  {
   "cell_type": "code",
   "execution_count": null,
   "id": "1e0a841f",
   "metadata": {},
   "outputs": [],
   "source": [
    "# Q2. difference between range and xrange\n",
    "\n",
    "#     \"range()\"                                                       !                           xrange()\n",
    "# Returns a list of integers                                          ! Returns a generator object.\n",
    "# Execution speed is slower                                           ! Execution speed is faster.\n",
    "# Takes more memory as it keeps the entire list of elements in memory.!Takes less memory as it keeps only one element at a time in memory.\n",
    "# All arithmetic operations can be performed as it returns a list.    !Such operations cannot be performed on xrange().\n",
    "# In python 3, xrange() is not supported.                             !In python 2, xrange() is used to iterate in for loops.\n"
   ]
  },
  {
   "cell_type": "code",
   "execution_count": 81,
   "id": "a7af7df6",
   "metadata": {},
   "outputs": [
    {
     "ename": "NameError",
     "evalue": "name 'e' is not defined",
     "output_type": "error",
     "traceback": [
      "\u001b[1;31m---------------------------------------------------------------------------\u001b[0m",
      "\u001b[1;31mNameError\u001b[0m                                 Traceback (most recent call last)",
      "\u001b[1;32m~\\AppData\\Local\\Temp/ipykernel_16828/2458211861.py\u001b[0m in \u001b[0;36m<module>\u001b[1;34m\u001b[0m\n\u001b[0;32m     11\u001b[0m \u001b[0mf\u001b[0m\u001b[1;33m=\u001b[0m\u001b[1;36m10\u001b[0m\u001b[1;33m\u001b[0m\u001b[1;33m\u001b[0m\u001b[0m\n\u001b[0;32m     12\u001b[0m \u001b[0mg\u001b[0m\u001b[1;33m=\u001b[0m\u001b[1;36m60\u001b[0m\u001b[1;33m\u001b[0m\u001b[1;33m\u001b[0m\u001b[0m\n\u001b[1;32m---> 13\u001b[1;33m \u001b[0mprint\u001b[0m\u001b[1;33m(\u001b[0m\u001b[0me\u001b[0m\u001b[1;33m)\u001b[0m\u001b[1;33m\u001b[0m\u001b[1;33m\u001b[0m\u001b[0m\n\u001b[0m\u001b[0;32m     14\u001b[0m \u001b[0mf1\u001b[0m\u001b[1;33m(\u001b[0m\u001b[1;36m40\u001b[0m\u001b[1;33m,\u001b[0m\u001b[1;36m50\u001b[0m\u001b[1;33m)\u001b[0m\u001b[1;33m\u001b[0m\u001b[1;33m\u001b[0m\u001b[0m\n\u001b[0;32m     15\u001b[0m \u001b[1;33m\u001b[0m\u001b[0m\n",
      "\u001b[1;31mNameError\u001b[0m: name 'e' is not defined"
     ]
    }
   ],
   "source": [
    "# Q3. What are global and local varibales support your answer with coding\n",
    "\n",
    "a= 20\n",
    "b= 30\n",
    "def f1(c,d):\n",
    "    e= c+d\n",
    "    print(a)\n",
    "    return e\n",
    "f=10\n",
    "g=60\n",
    "print(e)\n",
    "f1(40,50)\n",
    "\n",
    "\n",
    "# Here, local variables are c,d,e... \n",
    "# The local variable cannot be accessed from global.You will get error if you try to access.\n",
    "# However global variable can be accesed in local.\n",
    "# Here, Global variables are a,b,f,g..\n"
   ]
  },
  {
   "cell_type": "code",
   "execution_count": 129,
   "id": "18ed03e9",
   "metadata": {},
   "outputs": [],
   "source": [
    "# Q4. Difference between python 2 and python 3\n",
    "\n",
    "# 1. Python 3 is usually faster than Python 2.\n",
    "# 2. When Python 2 was mostly used to become a DevOps Engineer. It is no longer in use after 2020. Whereas, Python 3 is used in a lot of fields like Software Engineering, Data Science, etc.\n",
    "# 3. Python 2 codes can be ported to Python 3 with a lot of effort.whereas Python 3 is not backward compatible with Python 2.\n",
    "# 4. Python 3 has an easier syntax compared to Python 2.\n",
    "# 5. On the division of two integers, we get an integral value in Python 2. For instance, 7/2 yields 3 in Python 2.whereas in python 3 division of two integers, we get a floating-point value in Python 3. For instance, 7/2 yields 3.5 in Python 3.\n",
    "# 6. In Python 2, print is considered to be a statement and not a function. In Python 3, print is considered to be a function and not a statement.\n",
    "\n"
   ]
  },
  {
   "cell_type": "code",
   "execution_count": 147,
   "id": "aff60d75",
   "metadata": {},
   "outputs": [
    {
     "data": {
      "text/plain": [
       "'Yes it is Palindrome'"
      ]
     },
     "execution_count": 147,
     "metadata": {},
     "output_type": "execute_result"
    }
   ],
   "source": [
    "# Q5. What are mirrored palindrome? Write a program to check if a string is mirrored palindrome or not?\n",
    "\n",
    "\n",
    "def palindrome(word):\n",
    "    if word[::1]==word[::-1]:\n",
    "        return(\"Yes it is Palindrome\")\n",
    "    else:\n",
    "        return(\"No,it's not a Palindrome\")\n",
    "    \n",
    "palindrome(\"abcdr\")\n",
    "palindrome(\"malayalam\")"
   ]
  },
  {
   "cell_type": "code",
   "execution_count": null,
   "id": "2ba167b5",
   "metadata": {},
   "outputs": [],
   "source": []
  },
  {
   "cell_type": "code",
   "execution_count": null,
   "id": "ec7bf568",
   "metadata": {},
   "outputs": [],
   "source": []
  },
  {
   "cell_type": "code",
   "execution_count": null,
   "id": "100ee365",
   "metadata": {},
   "outputs": [],
   "source": [
    "\n",
    "\n",
    "    \n",
    "   "
   ]
  },
  {
   "cell_type": "code",
   "execution_count": null,
   "id": "7d428b3b",
   "metadata": {},
   "outputs": [],
   "source": [
    "\n",
    "     "
   ]
  },
  {
   "cell_type": "code",
   "execution_count": null,
   "id": "4d1c85a9",
   "metadata": {},
   "outputs": [],
   "source": []
  }
 ],
 "metadata": {
  "kernelspec": {
   "display_name": "Python 3 (ipykernel)",
   "language": "python",
   "name": "python3"
  },
  "language_info": {
   "codemirror_mode": {
    "name": "ipython",
    "version": 3
   },
   "file_extension": ".py",
   "mimetype": "text/x-python",
   "name": "python",
   "nbconvert_exporter": "python",
   "pygments_lexer": "ipython3",
   "version": "3.9.7"
  }
 },
 "nbformat": 4,
 "nbformat_minor": 5
}
